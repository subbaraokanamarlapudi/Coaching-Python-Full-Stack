{
 "cells": [
  {
   "cell_type": "code",
   "execution_count": 1,
   "metadata": {},
   "outputs": [
    {
     "name": "stdout",
     "output_type": "stream",
     "text": [
      "*\n"
     ]
    }
   ],
   "source": [
    "print(\"*\")"
   ]
  },
  {
   "cell_type": "code",
   "execution_count": 2,
   "metadata": {},
   "outputs": [
    {
     "name": "stdout",
     "output_type": "stream",
     "text": [
      "**********\n"
     ]
    }
   ],
   "source": [
    "print(\"**********\")"
   ]
  },
  {
   "cell_type": "code",
   "execution_count": 10,
   "metadata": {},
   "outputs": [
    {
     "name": "stdout",
     "output_type": "stream",
     "text": [
      "* * * \n",
      "* * * \n",
      "* * * \n"
     ]
    }
   ],
   "source": [
    "# W.A.P to print the stars rows and columns are same.\n",
    "\n",
    "n = eval(input(\"Enter a number: \"))\n",
    "for i in range(n):\n",
    "    for j in range(n):\n",
    "        print(\"*\", end=\" \")\n",
    "    print()"
   ]
  },
  {
   "cell_type": "code",
   "execution_count": 11,
   "metadata": {},
   "outputs": [
    {
     "name": "stdout",
     "output_type": "stream",
     "text": [
      "1 1 1 \n",
      "2 2 2 \n",
      "3 3 3 \n"
     ]
    }
   ],
   "source": [
    "# W.A.P to print the number same rows and colums\n",
    "\n",
    "n = eval(input(\"Enter a number: \"))\n",
    "for i in range(n):\n",
    "    for j in range(n):\n",
    "        print(i+1, end=\" \")\n",
    "    print()"
   ]
  },
  {
   "cell_type": "code",
   "execution_count": 5,
   "metadata": {},
   "outputs": [
    {
     "name": "stdout",
     "output_type": "stream",
     "text": [
      "1 2 3 \n",
      "1 2 3 \n",
      "1 2 3 \n"
     ]
    }
   ],
   "source": [
    "# W.A.P to print the numbers increasing order\n",
    "\n",
    "n = eval(input(\"Enter a number: \"))\n",
    "for i in range(1, n+1):\n",
    "    for j in range(1, n+1):\n",
    "        print(j, end=\" \")\n",
    "    print()"
   ]
  },
  {
   "cell_type": "code",
   "execution_count": 6,
   "metadata": {},
   "outputs": [
    {
     "name": "stdout",
     "output_type": "stream",
     "text": [
      "3 3 3 \n",
      "2 2 2 \n",
      "1 1 1 \n"
     ]
    }
   ],
   "source": [
    "# W.A.P to print the numbers in reverse order\n",
    "\n",
    "n = eval(input(\"Enter a number: \"))\n",
    "for i in range(n, 0, -1):\n",
    "    for j in range(n):\n",
    "        print(i, end=\" \")\n",
    "    print()"
   ]
  },
  {
   "cell_type": "code",
   "execution_count": 23,
   "metadata": {},
   "outputs": [
    {
     "name": "stdout",
     "output_type": "stream",
     "text": [
      "3 2 1 \n",
      "3 2 1 \n",
      "3 2 1 \n"
     ]
    }
   ],
   "source": [
    "# W.A.P to print the numbers in reverse order\n",
    "\n",
    "n = eval(input(\"Enter a number: \"))\n",
    "for i in range(n):\n",
    "    for j in range(n-1,-1,-1):\n",
    "        print(j+1, end=\" \")\n",
    "    print()"
   ]
  },
  {
   "cell_type": "code",
   "execution_count": 25,
   "metadata": {},
   "outputs": [
    {
     "name": "stdout",
     "output_type": "stream",
     "text": [
      "A A A \n",
      "B B B \n",
      "C C C \n"
     ]
    }
   ],
   "source": [
    "# W.A.P to print the alphabets increasing order\n",
    "\n",
    "n = eval(input(\"Enter a number: \"))\n",
    "for i in range(n):\n",
    "    for j in range(n):\n",
    "        print(chr(65+i), end=\" \")\n",
    "    print()"
   ]
  },
  {
   "cell_type": "code",
   "execution_count": 15,
   "metadata": {},
   "outputs": [
    {
     "name": "stdout",
     "output_type": "stream",
     "text": [
      "A B C \n",
      "A B C \n",
      "A B C \n"
     ]
    }
   ],
   "source": [
    "#  W.A.P to print the alphabets\n",
    "\n",
    "n = eval(input(\"Enter a number: \"))\n",
    "for i in range(n):\n",
    "    for j in range(n):\n",
    "        print(chr(65+j), end=\" \")\n",
    "    print()"
   ]
  },
  {
   "cell_type": "code",
   "execution_count": 18,
   "metadata": {},
   "outputs": [
    {
     "name": "stdout",
     "output_type": "stream",
     "text": [
      "C C C \n",
      "B B B \n",
      "A A A \n"
     ]
    }
   ],
   "source": [
    "# W.A.P to print the alphabets in reverse order\n",
    "\n",
    "n = eval(input(\"Enter a number: \"))\n",
    "for i in range(n, 0, -1):\n",
    "    for j in range(n):\n",
    "        print(chr(65+i-1), end=\" \")\n",
    "    print()"
   ]
  },
  {
   "cell_type": "code",
   "execution_count": 21,
   "metadata": {},
   "outputs": [
    {
     "name": "stdout",
     "output_type": "stream",
     "text": [
      "C B A \n",
      "C B A \n",
      "C B A \n"
     ]
    }
   ],
   "source": [
    "# W.A.P to print the alphabets in reverse order\n",
    "\n",
    "n = eval(input(\"Enter a number: \"))\n",
    "for i in range(n):\n",
    "    for j in range(n-1,-1,-1):\n",
    "        print(chr(65+j), end=\" \")\n",
    "    print()\n"
   ]
  },
  {
   "cell_type": "code",
   "execution_count": 3,
   "metadata": {},
   "outputs": [
    {
     "name": "stdout",
     "output_type": "stream",
     "text": [
      "* \n",
      "* * \n",
      "* * * \n",
      "* * * * \n",
      "* * * * * \n",
      "* * * * * * \n"
     ]
    }
   ],
   "source": [
    "# W.A.P to print the stars by using the right angled triangle.\n",
    "\n",
    "n = eval(input(\"Enter a number: \"))\n",
    "for i in range(n):\n",
    "    for j in range(i+1):\n",
    "        print(\"*\", end=\" \")\n",
    "    print()"
   ]
  },
  {
   "cell_type": "code",
   "execution_count": null,
   "metadata": {},
   "outputs": [],
   "source": []
  }
 ],
 "metadata": {
  "kernelspec": {
   "display_name": "Python 3",
   "language": "python",
   "name": "python3"
  },
  "language_info": {
   "codemirror_mode": {
    "name": "ipython",
    "version": 3
   },
   "file_extension": ".py",
   "mimetype": "text/x-python",
   "name": "python",
   "nbconvert_exporter": "python",
   "pygments_lexer": "ipython3",
   "version": "3.12.4"
  }
 },
 "nbformat": 4,
 "nbformat_minor": 2
}
